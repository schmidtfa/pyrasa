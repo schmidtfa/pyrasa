{
 "cells": [
  {
   "cell_type": "markdown",
   "metadata": {},
   "source": [
    "## Using Custom functions to model aperiodic signals\n",
    "\n",
    "Aperiodic changes in a power spectrum can be modeled using a variety of different linear models. This can be easily accomplished using scipy's curve_fit function.\n",
    "`PyRASA` aims to give users both some preset models that are similar to what has been implemented in specparam, as well as ability to fit custom models.\n",
    "The preset models are called `fixed` and `knee` and can be entered to the compute_slope method in the `IrasaSpectrum` returned by the `pyrasa.irasa` function.\n",
    "However, users can also import the class `AbstractFitFun` from `pyrasa.utils.fit_funcs` and inherit from it. \n",
    "Below we will illustrate how this is done and how the resultant child class can be used as a Custom fit function to model aperiodic signals.\n",
    "\n",
    "\n",
    "First we simulated a signal with a spectral exponent of 1.5"
   ]
  },
  {
   "cell_type": "code",
   "execution_count": 2,
   "metadata": {},
   "outputs": [],
   "source": [
    "import scipy.signal as dsp\n",
    "from pyrasa.utils.aperiodic_utils import compute_aperiodic_model\n",
    "from pyrasa.utils.fit_funcs import AbstractFitFun\n",
    "from pyrasa import irasa\n",
    "import numpy as np\n",
    "from neurodsp.sim import sim_powerlaw\n",
    "import pandas as pd\n",
    "\n",
    "n_secs = 60\n",
    "fs=1000\n",
    "f_range = [1.5, 150]\n",
    "exponent = -1.5\n",
    "\n",
    "sig = sim_powerlaw(n_seconds=n_secs, fs=fs, exponent=exponent)\n",
    "freqs, psd = dsp.welch(sig, fs, nperseg=int(4 * fs))\n",
    "freq_logical = np.logical_and(freqs >= f_range[0], freqs <= f_range[1])\n",
    "psd, freqs = psd[freq_logical], freqs[freq_logical]"
   ]
  },
  {
   "cell_type": "markdown",
   "metadata": {},
   "source": [
    "Now we need to simply overwrite the func method and enter it as a fit_func to either the `compute_slope` function imported from`from pyrasa.utils.aperiodic_utils`.\n",
    "Or we can use the method of the `IrasaSpectrum` returned by the `pyrasa.irasa` function."
   ]
  },
  {
   "cell_type": "code",
   "execution_count": 3,
   "metadata": {},
   "outputs": [],
   "source": [
    "\n",
    "class CustomFitFun(AbstractFitFun):\n",
    "    log10_aperiodic = True\n",
    "    log10_freq = True\n",
    "    \n",
    "    def func(self, x: np.ndarray, a: float, b: float) -> np.ndarray:\n",
    "        \"\"\"\n",
    "        Fixed fitting function.\n",
    "        Use this to model aperiodic activity without a spectral knee\n",
    "        \"\"\"\n",
    "        y_hat = a - b * x\n",
    "\n",
    "        return y_hat\n",
    "    \n",
    "\n",
    "slope_fit = compute_aperiodic_model(psd, freqs, fit_func=CustomFitFun)\n"
   ]
  },
  {
   "cell_type": "code",
   "execution_count": 4,
   "metadata": {},
   "outputs": [
    {
     "data": {
      "text/html": [
       "<div>\n",
       "<style scoped>\n",
       "    .dataframe tbody tr th:only-of-type {\n",
       "        vertical-align: middle;\n",
       "    }\n",
       "\n",
       "    .dataframe tbody tr th {\n",
       "        vertical-align: top;\n",
       "    }\n",
       "\n",
       "    .dataframe thead th {\n",
       "        text-align: right;\n",
       "    }\n",
       "</style>\n",
       "<table border=\"1\" class=\"dataframe\">\n",
       "  <thead>\n",
       "    <tr style=\"text-align: right;\">\n",
       "      <th></th>\n",
       "      <th>a</th>\n",
       "      <th>b</th>\n",
       "      <th>fit_type</th>\n",
       "      <th>ch_name</th>\n",
       "    </tr>\n",
       "  </thead>\n",
       "  <tbody>\n",
       "    <tr>\n",
       "      <th>0</th>\n",
       "      <td>-1.111201</td>\n",
       "      <td>1.510531</td>\n",
       "      <td>custom</td>\n",
       "      <td>0</td>\n",
       "    </tr>\n",
       "  </tbody>\n",
       "</table>\n",
       "</div>"
      ],
      "text/plain": [
       "          a         b fit_type  ch_name\n",
       "0 -1.111201  1.510531   custom        0"
      ]
     },
     "execution_count": 4,
     "metadata": {},
     "output_type": "execute_result"
    }
   ],
   "source": [
    "slope_fit.aperiodic_params"
   ]
  },
  {
   "cell_type": "code",
   "execution_count": 6,
   "metadata": {},
   "outputs": [],
   "source": [
    "slope_fit_2 = irasa(sig, fs=fs, band=f_range, psd_kwargs={'nperseg': 4 * fs}).fit_aperiodic_model(fit_func=CustomFitFun)"
   ]
  },
  {
   "cell_type": "code",
   "execution_count": 7,
   "metadata": {},
   "outputs": [
    {
     "data": {
      "text/html": [
       "<div>\n",
       "<style scoped>\n",
       "    .dataframe tbody tr th:only-of-type {\n",
       "        vertical-align: middle;\n",
       "    }\n",
       "\n",
       "    .dataframe tbody tr th {\n",
       "        vertical-align: top;\n",
       "    }\n",
       "\n",
       "    .dataframe thead th {\n",
       "        text-align: right;\n",
       "    }\n",
       "</style>\n",
       "<table border=\"1\" class=\"dataframe\">\n",
       "  <thead>\n",
       "    <tr style=\"text-align: right;\">\n",
       "      <th></th>\n",
       "      <th>a</th>\n",
       "      <th>b</th>\n",
       "      <th>fit_type</th>\n",
       "      <th>ch_name</th>\n",
       "    </tr>\n",
       "  </thead>\n",
       "  <tbody>\n",
       "    <tr>\n",
       "      <th>0</th>\n",
       "      <td>-1.125121</td>\n",
       "      <td>1.500167</td>\n",
       "      <td>custom</td>\n",
       "      <td>0</td>\n",
       "    </tr>\n",
       "  </tbody>\n",
       "</table>\n",
       "</div>"
      ],
      "text/plain": [
       "          a         b fit_type  ch_name\n",
       "0 -1.125121  1.500167   custom        0"
      ]
     },
     "execution_count": 7,
     "metadata": {},
     "output_type": "execute_result"
    }
   ],
   "source": [
    "slope_fit_2.aperiodic_params"
   ]
  },
  {
   "cell_type": "code",
   "execution_count": 8,
   "metadata": {},
   "outputs": [
    {
     "data": {
      "text/html": [
       "<div>\n",
       "<style scoped>\n",
       "    .dataframe tbody tr th:only-of-type {\n",
       "        vertical-align: middle;\n",
       "    }\n",
       "\n",
       "    .dataframe tbody tr th {\n",
       "        vertical-align: top;\n",
       "    }\n",
       "\n",
       "    .dataframe thead th {\n",
       "        text-align: right;\n",
       "    }\n",
       "</style>\n",
       "<table border=\"1\" class=\"dataframe\">\n",
       "  <thead>\n",
       "    <tr style=\"text-align: right;\">\n",
       "      <th></th>\n",
       "      <th>mse</th>\n",
       "      <th>r_squared</th>\n",
       "      <th>BIC</th>\n",
       "      <th>AIC</th>\n",
       "      <th>fit_type</th>\n",
       "      <th>ch_name</th>\n",
       "    </tr>\n",
       "  </thead>\n",
       "  <tbody>\n",
       "    <tr>\n",
       "      <th>0</th>\n",
       "      <td>0.007469</td>\n",
       "      <td>0.978620</td>\n",
       "      <td>-2900.899570</td>\n",
       "      <td>-2909.676693</td>\n",
       "      <td>custom</td>\n",
       "      <td>0</td>\n",
       "    </tr>\n",
       "    <tr>\n",
       "      <th>0</th>\n",
       "      <td>0.000350</td>\n",
       "      <td>0.998963</td>\n",
       "      <td>-4721.685378</td>\n",
       "      <td>-4730.462501</td>\n",
       "      <td>custom</td>\n",
       "      <td>0</td>\n",
       "    </tr>\n",
       "  </tbody>\n",
       "</table>\n",
       "</div>"
      ],
      "text/plain": [
       "        mse  r_squared          BIC          AIC fit_type  ch_name\n",
       "0  0.007469   0.978620 -2900.899570 -2909.676693   custom        0\n",
       "0  0.000350   0.998963 -4721.685378 -4730.462501   custom        0"
      ]
     },
     "execution_count": 8,
     "metadata": {},
     "output_type": "execute_result"
    }
   ],
   "source": [
    "pd.concat([slope_fit.gof,\n",
    "           slope_fit_2.gof])"
   ]
  },
  {
   "cell_type": "code",
   "execution_count": null,
   "metadata": {},
   "outputs": [],
   "source": []
  }
 ],
 "metadata": {
  "kernelspec": {
   "display_name": "default",
   "language": "python",
   "name": "python3"
  },
  "language_info": {
   "codemirror_mode": {
    "name": "ipython",
    "version": 3
   },
   "file_extension": ".py",
   "mimetype": "text/x-python",
   "name": "python",
   "nbconvert_exporter": "python",
   "pygments_lexer": "ipython3",
   "version": "3.12.4"
  }
 },
 "nbformat": 4,
 "nbformat_minor": 2
}
